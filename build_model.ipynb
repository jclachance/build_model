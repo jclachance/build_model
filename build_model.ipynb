{
 "cells": [
  {
   "cell_type": "code",
   "execution_count": 1,
   "metadata": {},
   "outputs": [],
   "source": [
    "import cobra\n",
    "import os\n",
    "\n",
    "from utils.data_io import load_arabidopsis_model, get_proteome\n",
    "from utils.genome_mapping import build_diamond_database, run_diamond, parse_diamond_output\n",
    "from utils.model_building import (get_model_gene_to_proteome_map, \n",
    "                                  get_model_genes_to_remove, \n",
    "                                  prune_genes_to_remove, \n",
    "                                  generate_base_model, \n",
    "                                  gapfill_base_model)"
   ]
  },
  {
   "cell_type": "markdown",
   "metadata": {},
   "source": [
    "# Build metabolic model\n",
    "\n",
    "In this example notebook, we will build a sketch metabolic model for two Cotton plants, drawing our inspiration from the *Arabidopsis thaliana* model.\n",
    "\n",
    "The notebook is built in such a way that files are re-downloaded every time. This ensures that any user is capable of running it, without having to upload heavy files to Github."
   ]
  },
  {
   "cell_type": "markdown",
   "metadata": {},
   "source": [
    "## 1. Load proteomes\n",
    "\n",
    "First, we load the proteomes of our organisms of interest:\n",
    "\n",
    "1. *Arabidopsis thaliana*: GCF_000001735.4\n",
    "2. *Gossypium hirsutum*: GCF_007990345.1\n",
    "3. *Gossypium arboreum*: GCF_000612285.1"
   ]
  },
  {
   "cell_type": "code",
   "execution_count": 2,
   "metadata": {},
   "outputs": [
    {
     "name": "stdout",
     "output_type": "stream",
     "text": [
      "Directory './genomes' already exists.\n",
      "File downloaded successfully: ./genomes/GCF_000001735.4_TAIR10.1_translated_cds.faa.gz\n"
     ]
    }
   ],
   "source": [
    "# Get the Arabidopsis thaliana proteome\n",
    "url = \"https://ftp.ncbi.nlm.nih.gov/genomes/all/GCF/000/001/735/GCF_000001735.4_TAIR10.1/GCF_000001735.4_TAIR10.1_translated_cds.faa.gz\"\n",
    "directory ='./genomes'\n",
    "filename =\"GCF_000001735.4_TAIR10.1_translated_cds.faa.gz\"\n",
    "get_proteome(url, directory, filename)\n"
   ]
  },
  {
   "cell_type": "code",
   "execution_count": 3,
   "metadata": {},
   "outputs": [
    {
     "name": "stdout",
     "output_type": "stream",
     "text": [
      "Directory './genomes' already exists.\n",
      "File downloaded successfully: ./genomes/GCF_007990345.1_Gossypium_hirsutum_v2.1_translated_cds.faa.gz\n",
      "Directory './genomes' already exists.\n",
      "File downloaded successfully: ./genomes/GCF_000612285.1_Gossypium_arboreum_v1.0_translated_cds.faa.gz\n"
     ]
    }
   ],
   "source": [
    "# Get the Cotton plants proteomes\n",
    "# Gossypium hirsutum\n",
    "url = \"https://ftp.ncbi.nlm.nih.gov/genomes/all/GCF/007/990/345/GCF_007990345.1_Gossypium_hirsutum_v2.1/GCF_007990345.1_Gossypium_hirsutum_v2.1_translated_cds.faa.gz\"\n",
    "directory ='./genomes'\n",
    "filename =\"GCF_007990345.1_Gossypium_hirsutum_v2.1_translated_cds.faa.gz\"\n",
    "get_proteome(url, directory, filename)\n",
    "\n",
    "# Gossypium arboreum\n",
    "url = \"https://ftp.ncbi.nlm.nih.gov/genomes/all/GCF/000/612/285/GCF_000612285.1_Gossypium_arboreum_v1.0/GCF_000612285.1_Gossypium_arboreum_v1.0_translated_cds.faa.gz\"\n",
    "directory ='./genomes'\n",
    "filename =\"GCF_000612285.1_Gossypium_arboreum_v1.0_translated_cds.faa.gz\"\n",
    "get_proteome(url, directory, filename)"
   ]
  },
  {
   "cell_type": "markdown",
   "metadata": {},
   "source": [
    "## 2. Run diamond\n",
    "\n",
    "Running Diamond BlastP will allow mapping between organism's proteomes."
   ]
  },
  {
   "cell_type": "code",
   "execution_count": 4,
   "metadata": {},
   "outputs": [],
   "source": [
    "# Define the set of inputs that will be used to run the diamond BLASTP and parse the output\n",
    "arabidopsis_proteome = \"GCF_000001735.4_TAIR10.1_translated_cds.faa\"\n",
    "inputfile = \"GCF_007990345.1_Gossypium_hirsutum_v2.1_translated_cds.faa\"\n",
    "database = \"GCF_000001735.4_TAIR10.1_translated_cds.faa.dmnd\"\n",
    "outputfile = \"A_thaliana_vs_G_hirsutum.tsv\"\n",
    "genome_path = \"./genomes/\"\n",
    "diamond_path = \"./genomes/diamond_output/\""
   ]
  },
  {
   "cell_type": "code",
   "execution_count": 5,
   "metadata": {},
   "outputs": [
    {
     "name": "stderr",
     "output_type": "stream",
     "text": [
      "diamond v2.1.9.163 (C) Max Planck Society for the Advancement of Science, Benjamin Buchfink, University of Tuebingen\n",
      "Documentation, support and updates available at http://www.diamondsearch.org\n",
      "Please cite: http://dx.doi.org/10.1038/s41592-021-01101-x Nature Methods (2021)\n",
      "\n",
      "#CPU threads: 8\n",
      "Scoring parameters: (Matrix=BLOSUM62 Lambda=0.267 K=0.041 Penalties=11/1)\n",
      "Database input file: ./genomes/GCF_000001735.4_TAIR10.1_translated_cds.faa\n",
      "Opening the database file...  [0.003s]\n",
      "Loading sequences...  [0.212s]\n",
      "Masking sequences...  [0.38s]\n",
      "Writing sequences...  [0.061s]\n",
      "Hashing sequences...  [0.017s]\n",
      "Loading sequences...  [0s]\n",
      "Writing trailer...  [0s]\n",
      "Closing the input file...  [0s]\n",
      "Closing the database file...  [0.012s]\n",
      "\n",
      "Database sequences  48265\n",
      "  Database letters  20841961\n",
      "     Database hash  08f37904b6839a19ca64db937a97f479\n",
      "        Total time  0.688000s\n"
     ]
    }
   ],
   "source": [
    "# Goal is to get the list of model genes in each Cotton plant species\n",
    "# We have to create a Diamond BLAST db for Arabidopsis thaliana\n",
    "build_diamond_database(arabidopsis_proteome, genome_path=genome_path, outdir=diamond_path)"
   ]
  },
  {
   "cell_type": "code",
   "execution_count": 6,
   "metadata": {},
   "outputs": [],
   "source": [
    "# Run Diamond BLASTP to identify proteins in Gossypium hirsutum that map to Arabidopsis thaliana\n",
    "run_diamond(inputfile, database, outputfile, genome_path, diamond_path, input_type='protein')"
   ]
  },
  {
   "cell_type": "code",
   "execution_count": 7,
   "metadata": {},
   "outputs": [
    {
     "data": {
      "text/html": [
       "<div>\n",
       "<style scoped>\n",
       "    .dataframe tbody tr th:only-of-type {\n",
       "        vertical-align: middle;\n",
       "    }\n",
       "\n",
       "    .dataframe tbody tr th {\n",
       "        vertical-align: top;\n",
       "    }\n",
       "\n",
       "    .dataframe thead th {\n",
       "        text-align: right;\n",
       "    }\n",
       "</style>\n",
       "<table border=\"1\" class=\"dataframe\">\n",
       "  <thead>\n",
       "    <tr style=\"text-align: right;\">\n",
       "      <th></th>\n",
       "      <th>qseqid</th>\n",
       "      <th>sseqid</th>\n",
       "      <th>pident</th>\n",
       "      <th>length</th>\n",
       "      <th>mismatch</th>\n",
       "      <th>gapopen</th>\n",
       "      <th>qstart</th>\n",
       "      <th>qend</th>\n",
       "      <th>sstart</th>\n",
       "      <th>send</th>\n",
       "      <th>evalue</th>\n",
       "      <th>bitscore</th>\n",
       "    </tr>\n",
       "  </thead>\n",
       "  <tbody>\n",
       "    <tr>\n",
       "      <th>0</th>\n",
       "      <td>lcl|NC_053424.1_prot_XP_040972552.1_1</td>\n",
       "      <td>lcl|NC_003076.8_prot_NP_200440.1_45945</td>\n",
       "      <td>55.0</td>\n",
       "      <td>120</td>\n",
       "      <td>51</td>\n",
       "      <td>2</td>\n",
       "      <td>211</td>\n",
       "      <td>328</td>\n",
       "      <td>276</td>\n",
       "      <td>394</td>\n",
       "      <td>1.280000e-29</td>\n",
       "      <td>120.0</td>\n",
       "    </tr>\n",
       "    <tr>\n",
       "      <th>1</th>\n",
       "      <td>lcl|NC_053424.1_prot_XP_040972554.1_2</td>\n",
       "      <td>lcl|NC_003076.8_prot_NP_200440.1_45945</td>\n",
       "      <td>55.0</td>\n",
       "      <td>120</td>\n",
       "      <td>51</td>\n",
       "      <td>2</td>\n",
       "      <td>211</td>\n",
       "      <td>328</td>\n",
       "      <td>276</td>\n",
       "      <td>394</td>\n",
       "      <td>1.280000e-29</td>\n",
       "      <td>120.0</td>\n",
       "    </tr>\n",
       "    <tr>\n",
       "      <th>2</th>\n",
       "      <td>lcl|NC_053424.1_prot_XP_040972555.1_3</td>\n",
       "      <td>lcl|NC_003076.8_prot_NP_200440.1_45945</td>\n",
       "      <td>55.0</td>\n",
       "      <td>120</td>\n",
       "      <td>51</td>\n",
       "      <td>2</td>\n",
       "      <td>211</td>\n",
       "      <td>328</td>\n",
       "      <td>276</td>\n",
       "      <td>394</td>\n",
       "      <td>1.280000e-29</td>\n",
       "      <td>120.0</td>\n",
       "    </tr>\n",
       "    <tr>\n",
       "      <th>3</th>\n",
       "      <td>lcl|NC_053424.1_prot_XP_040972557.1_4</td>\n",
       "      <td>lcl|NC_003076.8_prot_NP_200440.1_45945</td>\n",
       "      <td>55.0</td>\n",
       "      <td>120</td>\n",
       "      <td>51</td>\n",
       "      <td>2</td>\n",
       "      <td>211</td>\n",
       "      <td>328</td>\n",
       "      <td>276</td>\n",
       "      <td>394</td>\n",
       "      <td>1.280000e-29</td>\n",
       "      <td>120.0</td>\n",
       "    </tr>\n",
       "    <tr>\n",
       "      <th>4</th>\n",
       "      <td>lcl|NC_053424.1_prot_XP_040972559.1_5</td>\n",
       "      <td>lcl|NC_003076.8_prot_NP_200440.1_45945</td>\n",
       "      <td>55.0</td>\n",
       "      <td>120</td>\n",
       "      <td>51</td>\n",
       "      <td>2</td>\n",
       "      <td>211</td>\n",
       "      <td>328</td>\n",
       "      <td>276</td>\n",
       "      <td>394</td>\n",
       "      <td>1.280000e-29</td>\n",
       "      <td>120.0</td>\n",
       "    </tr>\n",
       "  </tbody>\n",
       "</table>\n",
       "</div>"
      ],
      "text/plain": [
       "                                  qseqid  \\\n",
       "0  lcl|NC_053424.1_prot_XP_040972552.1_1   \n",
       "1  lcl|NC_053424.1_prot_XP_040972554.1_2   \n",
       "2  lcl|NC_053424.1_prot_XP_040972555.1_3   \n",
       "3  lcl|NC_053424.1_prot_XP_040972557.1_4   \n",
       "4  lcl|NC_053424.1_prot_XP_040972559.1_5   \n",
       "\n",
       "                                   sseqid  pident  length  mismatch  gapopen  \\\n",
       "0  lcl|NC_003076.8_prot_NP_200440.1_45945    55.0     120        51        2   \n",
       "1  lcl|NC_003076.8_prot_NP_200440.1_45945    55.0     120        51        2   \n",
       "2  lcl|NC_003076.8_prot_NP_200440.1_45945    55.0     120        51        2   \n",
       "3  lcl|NC_003076.8_prot_NP_200440.1_45945    55.0     120        51        2   \n",
       "4  lcl|NC_003076.8_prot_NP_200440.1_45945    55.0     120        51        2   \n",
       "\n",
       "   qstart  qend  sstart  send        evalue  bitscore  \n",
       "0     211   328     276   394  1.280000e-29     120.0  \n",
       "1     211   328     276   394  1.280000e-29     120.0  \n",
       "2     211   328     276   394  1.280000e-29     120.0  \n",
       "3     211   328     276   394  1.280000e-29     120.0  \n",
       "4     211   328     276   394  1.280000e-29     120.0  "
      ]
     },
     "execution_count": 7,
     "metadata": {},
     "output_type": "execute_result"
    }
   ],
   "source": [
    "# Get the output of Diamond that maps between the two species\n",
    "diamond_mapping = parse_diamond_output(diamond_path, outputfile)\n",
    "diamond_mapping.head(5)"
   ]
  },
  {
   "cell_type": "markdown",
   "metadata": {},
   "source": [
    "## 3. Build a metabolic model\n",
    "\n",
    "1. Remove the genes and reactions from the Arabidopsis metabolic model to create a base model\n",
    "2. Add the remaining genes and associated reactions by querying KEGG"
   ]
  },
  {
   "cell_type": "code",
   "execution_count": 8,
   "metadata": {},
   "outputs": [
    {
     "data": {
      "text/html": [
       "\n",
       "        <table>\n",
       "            <tr>\n",
       "                <td><strong>Gene identifier</strong></td><td>ARTHCP007</td>\n",
       "            </tr><tr>\n",
       "                <td><strong>Name</strong></td><td>ARTHCP007</td>\n",
       "            </tr><tr>\n",
       "                <td><strong>Memory address</strong></td>\n",
       "                <td>0x7f205cd96850</td>\n",
       "            </tr><tr>\n",
       "                <td><strong>Functional</strong></td><td>True</td>\n",
       "            </tr><tr>\n",
       "                <td><strong>In 1 reaction(s)</strong></td><td>\n",
       "                    R00086_c\n",
       "                    </td>\n",
       "            </tr>\n",
       "        </table>"
      ],
      "text/plain": [
       "<Gene ARTHCP007 at 0x7f205cd96850>"
      ]
     },
     "execution_count": 8,
     "metadata": {},
     "output_type": "execute_result"
    }
   ],
   "source": [
    "# Get the Arabidopsis model\n",
    "model = load_arabidopsis_model()\n",
    "model.genes[0]"
   ]
  },
  {
   "cell_type": "code",
   "execution_count": 9,
   "metadata": {},
   "outputs": [
    {
     "data": {
      "text/html": [
       "<h3>Objective</h3><p>0.01 Ex16 = 10.000000000000002</p><h4>Uptake</h4><table border=\"1\" class=\"dataframe\">\n",
       "  <thead>\n",
       "    <tr style=\"text-align: right;\">\n",
       "      <th>Metabolite</th>\n",
       "      <th>Reaction</th>\n",
       "      <th>Flux</th>\n",
       "      <th>C-Number</th>\n",
       "      <th>C-Flux</th>\n",
       "    </tr>\n",
       "  </thead>\n",
       "  <tbody>\n",
       "    <tr>\n",
       "      <td>S_CO2_c</td>\n",
       "      <td>Ex1</td>\n",
       "      <td>123</td>\n",
       "      <td>0</td>\n",
       "      <td>0.00%</td>\n",
       "    </tr>\n",
       "    <tr>\n",
       "      <td>S_Hydrogen_32_sulfide_c</td>\n",
       "      <td>Ex11</td>\n",
       "      <td>0.00286</td>\n",
       "      <td>0</td>\n",
       "      <td>0.00%</td>\n",
       "    </tr>\n",
       "    <tr>\n",
       "      <td>S_hv_p</td>\n",
       "      <td>Ex16</td>\n",
       "      <td>1000</td>\n",
       "      <td>0</td>\n",
       "      <td>0.00%</td>\n",
       "    </tr>\n",
       "    <tr>\n",
       "      <td>S_Orthophosphate_c</td>\n",
       "      <td>Ex18</td>\n",
       "      <td>0.001639</td>\n",
       "      <td>0</td>\n",
       "      <td>0.00%</td>\n",
       "    </tr>\n",
       "    <tr>\n",
       "      <td>S_H2O_c</td>\n",
       "      <td>Ex2</td>\n",
       "      <td>475.7</td>\n",
       "      <td>0</td>\n",
       "      <td>0.00%</td>\n",
       "    </tr>\n",
       "    <tr>\n",
       "      <td>S_Nitrate_c</td>\n",
       "      <td>Ex4</td>\n",
       "      <td>0.00814</td>\n",
       "      <td>0</td>\n",
       "      <td>0.00%</td>\n",
       "    </tr>\n",
       "    <tr>\n",
       "      <td>S_NH3_c</td>\n",
       "      <td>Ex5</td>\n",
       "      <td>0.2415</td>\n",
       "      <td>0</td>\n",
       "      <td>0.00%</td>\n",
       "    </tr>\n",
       "  </tbody>\n",
       "</table><h4>Secretion</h4><table border=\"1\" class=\"dataframe\">\n",
       "  <thead>\n",
       "    <tr style=\"text-align: right;\">\n",
       "      <th>Metabolite</th>\n",
       "      <th>Reaction</th>\n",
       "      <th>Flux</th>\n",
       "      <th>C-Number</th>\n",
       "      <th>C-Flux</th>\n",
       "    </tr>\n",
       "  </thead>\n",
       "  <tbody>\n",
       "    <tr>\n",
       "      <td>S_Oxygen_c</td>\n",
       "      <td>Ex3</td>\n",
       "      <td>-124</td>\n",
       "      <td>0</td>\n",
       "      <td>0.00%</td>\n",
       "    </tr>\n",
       "    <tr>\n",
       "      <td>S_Riboflavin_c</td>\n",
       "      <td>V0002</td>\n",
       "      <td>-0.00044</td>\n",
       "      <td>0</td>\n",
       "      <td>0.00%</td>\n",
       "    </tr>\n",
       "  </tbody>\n",
       "</table>"
      ],
      "text/plain": [
       "<cobra.summary.model_summary.ModelSummary at 0x7f205c9376d0>"
      ]
     },
     "execution_count": 9,
     "metadata": {},
     "output_type": "execute_result"
    }
   ],
   "source": [
    "# Get the objective function, solution, uptake and secretion fluxes\n",
    "model.summary()"
   ]
  },
  {
   "cell_type": "markdown",
   "metadata": {},
   "source": [
    "### 3.1 Create a base model\n",
    "\n",
    "In this model, the gene identifiers are consistent with KEGG entries: https://www.genome.jp/dbget-bin/www_bget?ath:ArthCp007\n",
    "\n",
    "We thus need to first map the KEGG identifiers to the *A. thaliana* proteome used with Diamond in order to identify the genes to remove to create a base model."
   ]
  },
  {
   "cell_type": "code",
   "execution_count": 10,
   "metadata": {},
   "outputs": [],
   "source": [
    "# Map the Arabidopsis thaliana model genes to protein identifiers from the proteome\n",
    "# This step will add the mapping directly to the diamond_mapping dataframe\n",
    "diamond_mapping = get_model_gene_to_proteome_map(os.path.join(genome_path,arabidopsis_proteome), diamond_mapping)"
   ]
  },
  {
   "cell_type": "code",
   "execution_count": 11,
   "metadata": {},
   "outputs": [
    {
     "name": "stdout",
     "output_type": "stream",
     "text": [
      "14189 target species genes were found in the reference proteome\n",
      "976 target species were found in the reference model containing 1404\n",
      "428 genes must be removed from the reference model\n"
     ]
    }
   ],
   "source": [
    "# Get the genes to remove from the model\n",
    "genes_to_remove = get_model_genes_to_remove(diamond_mapping, model)"
   ]
  },
  {
   "cell_type": "code",
   "execution_count": 12,
   "metadata": {},
   "outputs": [
    {
     "name": "stderr",
     "output_type": "stream",
     "text": [
      "Could not identify an external compartment by name and choosing one with the most boundary reactions. That might be complete nonsense or change suddenly. Consider renaming your compartments using `Model.compartments` to fix this.\n",
      "/home/jclachance/.pyenv/versions/3.11.4/envs/build_model_env/lib/python3.11/site-packages/cobra/medium/boundary_types.py:97: FutureWarning: Series.__getitem__ treating keys as positions is deprecated. In a future version, integer keys will always be treated as labels (consistent with DataFrame behavior). To access a value by position, use `ser.iloc[pos]`\n",
      "  return most[0]\n"
     ]
    },
    {
     "data": {
      "text/plain": [
       "415"
      ]
     },
     "execution_count": 12,
     "metadata": {},
     "output_type": "execute_result"
    }
   ],
   "source": [
    "# Make sure we are not removing genes that are essential individually or in combination\n",
    "genes_to_remove = prune_genes_to_remove(model, genes_to_remove)\n",
    "len(genes_to_remove)"
   ]
  },
  {
   "cell_type": "code",
   "execution_count": 13,
   "metadata": {},
   "outputs": [],
   "source": [
    "# The base model is the model without the genes to remove\n",
    "generate_base_model(genes_to_remove, os.path.join('./models/', 'hirsutum_base_model.json'))"
   ]
  },
  {
   "cell_type": "code",
   "execution_count": 14,
   "metadata": {},
   "outputs": [
    {
     "name": "stdout",
     "output_type": "stream",
     "text": [
      "The base model solves the model\n"
     ]
    },
    {
     "name": "stderr",
     "output_type": "stream",
     "text": [
      "/home/jclachance/.pyenv/versions/3.11.4/envs/build_model_env/lib/python3.11/site-packages/cobra/util/solver.py:554: UserWarning: Solver status is 'infeasible'.\n",
      "  warn(f\"Solver status is '{status}'.\", UserWarning)\n"
     ]
    }
   ],
   "source": [
    "# Verify if the base model can solve\n",
    "base_model = cobra.io.load_json_model(os.path.join('./models','hirsutum_base_model.json'))\n",
    "solution = base_model.optimize()\n",
    "if solution.status == 'infeasible':\n",
    "    print(\"The base model solves the model\")\n",
    "elif solution.status == 'optimal':\n",
    "    print(\"The base model does not solve, you will need to run gapfilling\")"
   ]
  },
  {
   "cell_type": "code",
   "execution_count": 15,
   "metadata": {},
   "outputs": [
    {
     "ename": "NameError",
     "evalue": "name 'os' is not defined",
     "output_type": "error",
     "traceback": [
      "\u001b[0;31m---------------------------------------------------------------------------\u001b[0m",
      "\u001b[0;31mNameError\u001b[0m                                 Traceback (most recent call last)",
      "\u001b[1;32m/home/jclachance/Documents/Galy_application/build_model/build_model.ipynb Cell 20\u001b[0m line \u001b[0;36m2\n\u001b[1;32m      <a href='vscode-notebook-cell:/home/jclachance/Documents/Galy_application/build_model/build_model.ipynb#X25sZmlsZQ%3D%3D?line=0'>1</a>\u001b[0m \u001b[39m# Gapfill the base model which cannot solve\u001b[39;00m\n\u001b[0;32m----> <a href='vscode-notebook-cell:/home/jclachance/Documents/Galy_application/build_model/build_model.ipynb#X25sZmlsZQ%3D%3D?line=1'>2</a>\u001b[0m gapfill_base_model(os\u001b[39m.\u001b[39;49mpath\u001b[39m.\u001b[39;49mjoin(\u001b[39m'\u001b[39;49m\u001b[39m./models\u001b[39;49m\u001b[39m'\u001b[39;49m,\u001b[39m'\u001b[39;49m\u001b[39mhirsutum_functional_model.json\u001b[39;49m\u001b[39m'\u001b[39;49m))\n",
      "File \u001b[0;32m~/Documents/Galy_application/build_model/utils/model_building.py:158\u001b[0m, in \u001b[0;36mgapfill_base_model\u001b[0;34m(outfile)\u001b[0m\n\u001b[1;32m    148\u001b[0m \u001b[39m\u001b[39m\u001b[39m\"\"\"\u001b[39;00m\n\u001b[1;32m    149\u001b[0m \u001b[39mGapfills the base model by adding reactions that are not present in the base model from the loaded model.\u001b[39;00m\n\u001b[1;32m    150\u001b[0m \u001b[39m\u001b[39;00m\n\u001b[0;32m   (...)\u001b[0m\n\u001b[1;32m    155\u001b[0m \u001b[39m    None\u001b[39;00m\n\u001b[1;32m    156\u001b[0m \u001b[39m\"\"\"\u001b[39;00m\n\u001b[1;32m    157\u001b[0m model \u001b[39m=\u001b[39m load_arabidopsis_model()\n\u001b[0;32m--> 158\u001b[0m base_model \u001b[39m=\u001b[39m cobra\u001b[39m.\u001b[39mio\u001b[39m.\u001b[39mload_json_model(os\u001b[39m.\u001b[39mpath\u001b[39m.\u001b[39mjoin(\u001b[39m'\u001b[39m\u001b[39m./models\u001b[39m\u001b[39m'\u001b[39m,\u001b[39m'\u001b[39m\u001b[39mhirsutum_base_model.json\u001b[39m\u001b[39m'\u001b[39m))\n\u001b[1;32m    159\u001b[0m \u001b[39mprint\u001b[39m(\u001b[39m\"\u001b[39m\u001b[39mLoaded both models, now checking reactions one at a time\u001b[39m\u001b[39m\"\u001b[39m)\n\u001b[1;32m    160\u001b[0m \u001b[39mfor\u001b[39;00m r \u001b[39min\u001b[39;00m model\u001b[39m.\u001b[39mreactions:\n",
      "\u001b[0;31mNameError\u001b[0m: name 'os' is not defined"
     ]
    }
   ],
   "source": [
    "# Gapfill the base model which cannot solve\n",
    "gapfill_base_model(os.path.join('./models','hirsutum_functional_model.json'))"
   ]
  },
  {
   "cell_type": "markdown",
   "metadata": {},
   "source": [
    "### 3.2 Expand base model with organism specific genes and reactions\n",
    "\n",
    "Thus far, we have built a skeleton metabolic model from a functional *Arabidopsis thaliana* reference model. The model was more than the sum of a set of reactions from KEGG. It contains a biomass objective function, a medium and is scaled to produce somewhat realistic predictions. We've thus used this template and reduced it such that it contains only *G. hirsutum* homologs. When we removed the genes that were not homologous, we ended up with a non-functional model: it could not produce biomass. This was somewhat expected, we blindly removed 1/3 of the genes and expected a complex system to just work? So we had to be careful, we excluded the individual essential genes and synthetic lethals from this list of genes to remove. \n",
    "\n",
    "Since our model couldn't solve, we had to patch this error. We took the easy way and identified a metabolic reaction from the *Arabidopsis thaliana* model that allowed the model to solve again.\n",
    "\n",
    "The real (and hard) way, is to add back the *G. hirsutum* genes into this draft model. We could go there, but it would take **a lot of time**. Therefore, we only show what the first steps in this process might look like. We would identify:\n",
    "\n",
    "1. Metabolic reactions from a public database and standardize their metabolite identifiers to those in the model (vice-versa, everyone should speak the smae language)\n",
    "2. Identify the reactions that are not currently present in the model and add them back (including the gene reaction rule)\n",
    "3. Test the ensuing phenotypes (we have to have some benchmark that says the model actually performs like a cotton plant cell does)\n",
    "\n",
    "This process can be tricky and involves some manual curation, which is out of scope for this task."
   ]
  },
  {
   "cell_type": "code",
   "execution_count": null,
   "metadata": {},
   "outputs": [],
   "source": [
    "# Load the base model\n",
    "functional_model = cobra.io.load_json_model(os.path.join('./models','hirsutum_functional_model.json'))"
   ]
  },
  {
   "cell_type": "code",
   "execution_count": null,
   "metadata": {},
   "outputs": [
    {
     "name": "stdout",
     "output_type": "stream",
     "text": [
      "200\n",
      "['ghi01100', 'Metabolic pathways - Gossypium hirsutum (upland cotton)']\n",
      "['ghi01110', 'Biosynthesis of secondary metabolites - Gossypium hirsutum (upland cotton)']\n",
      "['ghi01200', 'Carbon metabolism - Gossypium hirsutum (upland cotton)']\n",
      "['ghi01210', '2-Oxocarboxylic acid metabolism - Gossypium hirsutum (upland cotton)']\n",
      "['ghi01212', 'Fatty acid metabolism - Gossypium hirsutum (upland cotton)']\n",
      "['ghi01230', 'Biosynthesis of amino acids - Gossypium hirsutum (upland cotton)']\n",
      "['ghi01232', 'Nucleotide metabolism - Gossypium hirsutum (upland cotton)']\n",
      "['ghi01250', 'Biosynthesis of nucleotide sugars - Gossypium hirsutum (upland cotton)']\n",
      "['ghi01240', 'Biosynthesis of cofactors - Gossypium hirsutum (upland cotton)']\n",
      "['ghi00010', 'Glycolysis / Gluconeogenesis - Gossypium hirsutum (upland cotton)']\n",
      "['ghi00020', 'Citrate cycle (TCA cycle) - Gossypium hirsutum (upland cotton)']\n",
      "['ghi00030', 'Pentose phosphate pathway - Gossypium hirsutum (upland cotton)']\n",
      "['ghi00040', 'Pentose and glucuronate interconversions - Gossypium hirsutum (upland cotton)']\n",
      "['ghi00051', 'Fructose and mannose metabolism - Gossypium hirsutum (upland cotton)']\n",
      "['ghi00052', 'Galactose metabolism - Gossypium hirsutum (upland cotton)']\n",
      "['ghi00053', 'Ascorbate and aldarate metabolism - Gossypium hirsutum (upland cotton)']\n",
      "['ghi00500', 'Starch and sucrose metabolism - Gossypium hirsutum (upland cotton)']\n",
      "['ghi00520', 'Amino sugar and nucleotide sugar metabolism - Gossypium hirsutum (upland cotton)']\n",
      "['ghi00620', 'Pyruvate metabolism - Gossypium hirsutum (upland cotton)']\n",
      "['ghi00630', 'Glyoxylate and dicarboxylate metabolism - Gossypium hirsutum (upland cotton)']\n",
      "['ghi00640', 'Propanoate metabolism - Gossypium hirsutum (upland cotton)']\n",
      "['ghi00650', 'Butanoate metabolism - Gossypium hirsutum (upland cotton)']\n",
      "['ghi00660', 'C5-Branched dibasic acid metabolism - Gossypium hirsutum (upland cotton)']\n",
      "['ghi00562', 'Inositol phosphate metabolism - Gossypium hirsutum (upland cotton)']\n",
      "['ghi00190', 'Oxidative phosphorylation - Gossypium hirsutum (upland cotton)']\n",
      "['ghi00195', 'Photosynthesis - Gossypium hirsutum (upland cotton)']\n",
      "['ghi00196', 'Photosynthesis - antenna proteins - Gossypium hirsutum (upland cotton)']\n",
      "['ghi00710', 'Carbon fixation by Calvin cycle - Gossypium hirsutum (upland cotton)']\n",
      "['ghi00910', 'Nitrogen metabolism - Gossypium hirsutum (upland cotton)']\n",
      "['ghi00920', 'Sulfur metabolism - Gossypium hirsutum (upland cotton)']\n",
      "['ghi00061', 'Fatty acid biosynthesis - Gossypium hirsutum (upland cotton)']\n",
      "['ghi00062', 'Fatty acid elongation - Gossypium hirsutum (upland cotton)']\n",
      "['ghi00071', 'Fatty acid degradation - Gossypium hirsutum (upland cotton)']\n",
      "['ghi00073', 'Cutin, suberine and wax biosynthesis - Gossypium hirsutum (upland cotton)']\n",
      "['ghi00100', 'Steroid biosynthesis - Gossypium hirsutum (upland cotton)']\n",
      "['ghi00561', 'Glycerolipid metabolism - Gossypium hirsutum (upland cotton)']\n",
      "['ghi00564', 'Glycerophospholipid metabolism - Gossypium hirsutum (upland cotton)']\n",
      "['ghi00565', 'Ether lipid metabolism - Gossypium hirsutum (upland cotton)']\n",
      "['ghi00600', 'Sphingolipid metabolism - Gossypium hirsutum (upland cotton)']\n",
      "['ghi00590', 'Arachidonic acid metabolism - Gossypium hirsutum (upland cotton)']\n",
      "['ghi00591', 'Linoleic acid metabolism - Gossypium hirsutum (upland cotton)']\n",
      "['ghi00592', 'alpha-Linolenic acid metabolism - Gossypium hirsutum (upland cotton)']\n",
      "['ghi01040', 'Biosynthesis of unsaturated fatty acids - Gossypium hirsutum (upland cotton)']\n",
      "['ghi00230', 'Purine metabolism - Gossypium hirsutum (upland cotton)']\n",
      "['ghi00240', 'Pyrimidine metabolism - Gossypium hirsutum (upland cotton)']\n",
      "['ghi00250', 'Alanine, aspartate and glutamate metabolism - Gossypium hirsutum (upland cotton)']\n",
      "['ghi00260', 'Glycine, serine and threonine metabolism - Gossypium hirsutum (upland cotton)']\n",
      "['ghi00270', 'Cysteine and methionine metabolism - Gossypium hirsutum (upland cotton)']\n",
      "['ghi00280', 'Valine, leucine and isoleucine degradation - Gossypium hirsutum (upland cotton)']\n",
      "['ghi00290', 'Valine, leucine and isoleucine biosynthesis - Gossypium hirsutum (upland cotton)']\n",
      "['ghi00300', 'Lysine biosynthesis - Gossypium hirsutum (upland cotton)']\n",
      "['ghi00310', 'Lysine degradation - Gossypium hirsutum (upland cotton)']\n",
      "['ghi00220', 'Arginine biosynthesis - Gossypium hirsutum (upland cotton)']\n",
      "['ghi00330', 'Arginine and proline metabolism - Gossypium hirsutum (upland cotton)']\n",
      "['ghi00340', 'Histidine metabolism - Gossypium hirsutum (upland cotton)']\n",
      "['ghi00350', 'Tyrosine metabolism - Gossypium hirsutum (upland cotton)']\n",
      "['ghi00360', 'Phenylalanine metabolism - Gossypium hirsutum (upland cotton)']\n",
      "['ghi00380', 'Tryptophan metabolism - Gossypium hirsutum (upland cotton)']\n",
      "['ghi00400', 'Phenylalanine, tyrosine and tryptophan biosynthesis - Gossypium hirsutum (upland cotton)']\n",
      "['ghi00410', 'beta-Alanine metabolism - Gossypium hirsutum (upland cotton)']\n",
      "['ghi00430', 'Taurine and hypotaurine metabolism - Gossypium hirsutum (upland cotton)']\n",
      "['ghi00440', 'Phosphonate and phosphinate metabolism - Gossypium hirsutum (upland cotton)']\n",
      "['ghi00450', 'Selenocompound metabolism - Gossypium hirsutum (upland cotton)']\n",
      "['ghi00460', 'Cyanoamino acid metabolism - Gossypium hirsutum (upland cotton)']\n",
      "['ghi00470', 'D-Amino acid metabolism - Gossypium hirsutum (upland cotton)']\n",
      "['ghi00480', 'Glutathione metabolism - Gossypium hirsutum (upland cotton)']\n",
      "['ghi00510', 'N-Glycan biosynthesis - Gossypium hirsutum (upland cotton)']\n",
      "['ghi00513', 'Various types of N-glycan biosynthesis - Gossypium hirsutum (upland cotton)']\n",
      "['ghi00514', 'Other types of O-glycan biosynthesis - Gossypium hirsutum (upland cotton)']\n",
      "['ghi00531', 'Glycosaminoglycan degradation - Gossypium hirsutum (upland cotton)']\n",
      "['ghi00563', 'Glycosylphosphatidylinositol (GPI)-anchor biosynthesis - Gossypium hirsutum (upland cotton)']\n",
      "['ghi00601', 'Glycosphingolipid biosynthesis - lacto and neolacto series - Gossypium hirsutum (upland cotton)']\n",
      "['ghi00603', 'Glycosphingolipid biosynthesis - globo and isoglobo series - Gossypium hirsutum (upland cotton)']\n",
      "['ghi00604', 'Glycosphingolipid biosynthesis - ganglio series - Gossypium hirsutum (upland cotton)']\n",
      "['ghi00511', 'Other glycan degradation - Gossypium hirsutum (upland cotton)']\n",
      "['ghi00543', 'Exopolysaccharide biosynthesis - Gossypium hirsutum (upland cotton)']\n",
      "['ghi00730', 'Thiamine metabolism - Gossypium hirsutum (upland cotton)']\n",
      "['ghi00740', 'Riboflavin metabolism - Gossypium hirsutum (upland cotton)']\n",
      "['ghi00750', 'Vitamin B6 metabolism - Gossypium hirsutum (upland cotton)']\n",
      "['ghi00760', 'Nicotinate and nicotinamide metabolism - Gossypium hirsutum (upland cotton)']\n",
      "['ghi00770', 'Pantothenate and CoA biosynthesis - Gossypium hirsutum (upland cotton)']\n",
      "['ghi00780', 'Biotin metabolism - Gossypium hirsutum (upland cotton)']\n",
      "['ghi00785', 'Lipoic acid metabolism - Gossypium hirsutum (upland cotton)']\n",
      "['ghi00790', 'Folate biosynthesis - Gossypium hirsutum (upland cotton)']\n",
      "['ghi00670', 'One carbon pool by folate - Gossypium hirsutum (upland cotton)']\n",
      "['ghi00860', 'Porphyrin metabolism - Gossypium hirsutum (upland cotton)']\n",
      "['ghi00130', 'Ubiquinone and other terpenoid-quinone biosynthesis - Gossypium hirsutum (upland cotton)']\n",
      "['ghi00900', 'Terpenoid backbone biosynthesis - Gossypium hirsutum (upland cotton)']\n",
      "['ghi00902', 'Monoterpenoid biosynthesis - Gossypium hirsutum (upland cotton)']\n",
      "['ghi00909', 'Sesquiterpenoid and triterpenoid biosynthesis - Gossypium hirsutum (upland cotton)']\n",
      "['ghi00904', 'Diterpenoid biosynthesis - Gossypium hirsutum (upland cotton)']\n",
      "['ghi00906', 'Carotenoid biosynthesis - Gossypium hirsutum (upland cotton)']\n",
      "['ghi00905', 'Brassinosteroid biosynthesis - Gossypium hirsutum (upland cotton)']\n",
      "['ghi00908', 'Zeatin biosynthesis - Gossypium hirsutum (upland cotton)']\n",
      "['ghi00940', 'Phenylpropanoid biosynthesis - Gossypium hirsutum (upland cotton)']\n",
      "['ghi00945', 'Stilbenoid, diarylheptanoid and gingerol biosynthesis - Gossypium hirsutum (upland cotton)']\n",
      "['ghi00941', 'Flavonoid biosynthesis - Gossypium hirsutum (upland cotton)']\n",
      "['ghi00944', 'Flavone and flavonol biosynthesis - Gossypium hirsutum (upland cotton)']\n",
      "['ghi00942', 'Anthocyanin biosynthesis - Gossypium hirsutum (upland cotton)']\n",
      "['ghi00943', 'Isoflavonoid biosynthesis - Gossypium hirsutum (upland cotton)']\n",
      "['ghi00950', 'Isoquinoline alkaloid biosynthesis - Gossypium hirsutum (upland cotton)']\n",
      "['ghi00960', 'Tropane, piperidine and pyridine alkaloid biosynthesis - Gossypium hirsutum (upland cotton)']\n",
      "['ghi00232', 'Caffeine metabolism - Gossypium hirsutum (upland cotton)']\n",
      "['ghi00965', 'Betalain biosynthesis - Gossypium hirsutum (upland cotton)']\n",
      "['ghi00966', 'Glucosinolate biosynthesis - Gossypium hirsutum (upland cotton)']\n",
      "['ghi00261', 'Monobactam biosynthesis - Gossypium hirsutum (upland cotton)']\n",
      "['ghi00999', 'Biosynthesis of various plant secondary metabolites - Gossypium hirsutum (upland cotton)']\n",
      "['ghi03020', 'RNA polymerase - Gossypium hirsutum (upland cotton)']\n",
      "['ghi03022', 'Basal transcription factors - Gossypium hirsutum (upland cotton)']\n",
      "['ghi03040', 'Spliceosome - Gossypium hirsutum (upland cotton)']\n",
      "['ghi03010', 'Ribosome - Gossypium hirsutum (upland cotton)']\n",
      "['ghi00970', 'Aminoacyl-tRNA biosynthesis - Gossypium hirsutum (upland cotton)']\n",
      "['ghi03013', 'Nucleocytoplasmic transport - Gossypium hirsutum (upland cotton)']\n",
      "['ghi03015', 'mRNA surveillance pathway - Gossypium hirsutum (upland cotton)']\n",
      "['ghi03008', 'Ribosome biogenesis in eukaryotes - Gossypium hirsutum (upland cotton)']\n",
      "['ghi03060', 'Protein export - Gossypium hirsutum (upland cotton)']\n",
      "['ghi04141', 'Protein processing in endoplasmic reticulum - Gossypium hirsutum (upland cotton)']\n",
      "['ghi04130', 'SNARE interactions in vesicular transport - Gossypium hirsutum (upland cotton)']\n",
      "['ghi04120', 'Ubiquitin mediated proteolysis - Gossypium hirsutum (upland cotton)']\n",
      "['ghi04122', 'Sulfur relay system - Gossypium hirsutum (upland cotton)']\n",
      "['ghi03050', 'Proteasome - Gossypium hirsutum (upland cotton)']\n",
      "['ghi03018', 'RNA degradation - Gossypium hirsutum (upland cotton)']\n",
      "['ghi03030', 'DNA replication - Gossypium hirsutum (upland cotton)']\n",
      "['ghi03410', 'Base excision repair - Gossypium hirsutum (upland cotton)']\n",
      "['ghi03420', 'Nucleotide excision repair - Gossypium hirsutum (upland cotton)']\n",
      "['ghi03430', 'Mismatch repair - Gossypium hirsutum (upland cotton)']\n",
      "['ghi03440', 'Homologous recombination - Gossypium hirsutum (upland cotton)']\n",
      "['ghi03450', 'Non-homologous end-joining - Gossypium hirsutum (upland cotton)']\n",
      "['ghi03082', 'ATP-dependent chromatin remodeling - Gossypium hirsutum (upland cotton)']\n",
      "['ghi03083', 'Polycomb repressive complex - Gossypium hirsutum (upland cotton)']\n",
      "['ghi03250', 'Viral life cycle - HIV-1 - Gossypium hirsutum (upland cotton)']\n",
      "['ghi02010', 'ABC transporters - Gossypium hirsutum (upland cotton)']\n",
      "['ghi04016', 'MAPK signaling pathway - plant - Gossypium hirsutum (upland cotton)']\n",
      "['ghi04070', 'Phosphatidylinositol signaling system - Gossypium hirsutum (upland cotton)']\n",
      "['ghi04075', 'Plant hormone signal transduction - Gossypium hirsutum (upland cotton)']\n",
      "['ghi04144', 'Endocytosis - Gossypium hirsutum (upland cotton)']\n",
      "['ghi04145', 'Phagosome - Gossypium hirsutum (upland cotton)']\n",
      "['ghi04146', 'Peroxisome - Gossypium hirsutum (upland cotton)']\n",
      "['ghi04136', 'Autophagy - other - Gossypium hirsutum (upland cotton)']\n",
      "['ghi04148', 'Efferocytosis - Gossypium hirsutum (upland cotton)']\n",
      "['ghi04814', 'Motor proteins - Gossypium hirsutum (upland cotton)']\n",
      "['ghi04820', 'Cytoskeleton in muscle cells - Gossypium hirsutum (upland cotton)']\n",
      "['ghi04712', 'Circadian rhythm - plant - Gossypium hirsutum (upland cotton)']\n",
      "['ghi04626', 'Plant-pathogen interaction - Gossypium hirsutum (upland cotton)']\n",
      "['']\n"
     ]
    }
   ],
   "source": [
    "# Get the organism pathways from KEGG\n",
    "response = requests.get(f\"https://rest.kegg.jp/list/pathway/ghi\")\n",
    "print(response.status_code)\n",
    "for line in response.text.split('\\n'):\n",
    "    print(line.split('\\t'    ))"
   ]
  },
  {
   "cell_type": "code",
   "execution_count": null,
   "metadata": {},
   "outputs": [],
   "source": [
    "import re\n",
    "import requests\n",
    "\n",
    "def query_kegg_ontology(ko_id):\n",
    "    url = f\"http://rest.kegg.jp/get/{ko_id}\"\n",
    "    response = requests.get(url)\n",
    "    if response.status_code == 200:\n",
    "        return response.text\n",
    "    else:\n",
    "        print(f'Bad query {response.status_code}')\n",
    "\n",
    "def get_kegg_reaction_id(content):\n",
    "    pattern = r'R\\d{5}'\n",
    "    matches = re.findall(pattern, content)\n",
    "    return matches\n",
    "\n",
    "def extract_text_between_tags(html_string):\n",
    "    pattern = r'ghi:\\d{9}'\n",
    "    matches = re.findall(pattern, html_string)\n",
    "    return matches[0]\n",
    "\n",
    "def check_kegg_ontology_id(input_string):\n",
    "    pattern = r'^K\\d{5} '\n",
    "    if re.match(pattern, input_string):\n",
    "        return True\n",
    "    else:\n",
    "        return False\n",
    "\n",
    "response = requests.get('https://www.genome.jp/dbget-bin/get_linkdb?-t+genes+gn:T04793')\n",
    "\n",
    "ko_reactions_mapping = {}\n",
    "for line in response.text.split('\\n'):\n",
    "    if line.startswith('<a href=\"/entry'):\n",
    "        elements = line.split('        ')\n",
    "        ncbi_gene_id = extract_text_between_tags(elements[0])\n",
    "        if check_kegg_ontology_id(elements[1]):\n",
    "            ko_id = elements[1].split(' ')[0]\n",
    "            content = query_kegg_ontology(ko_id)\n",
    "            reactions = get_kegg_reaction_id(content)\n",
    "            ko_reactions_mapping[ko_id] = reactions\n",
    "\n",
    "ko_reactions_mapping"
   ]
  },
  {
   "cell_type": "markdown",
   "metadata": {},
   "source": [
    "# End of model reconstruction notebook. \n",
    "\n",
    "**Make sure to copy your functional model over to the results app to analyze its results in a browser**"
   ]
  }
 ],
 "metadata": {
  "kernelspec": {
   "display_name": "build_model_env",
   "language": "python",
   "name": "python3"
  },
  "language_info": {
   "codemirror_mode": {
    "name": "ipython",
    "version": 3
   },
   "file_extension": ".py",
   "mimetype": "text/x-python",
   "name": "python",
   "nbconvert_exporter": "python",
   "pygments_lexer": "ipython3",
   "version": "3.11.4"
  }
 },
 "nbformat": 4,
 "nbformat_minor": 2
}
